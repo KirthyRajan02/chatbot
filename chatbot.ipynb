{
 "cells": [
  {
   "cell_type": "code",
   "execution_count": 3,
   "metadata": {},
   "outputs": [
    {
     "name": "stdout",
     "output_type": "stream",
     "text": [
      "hi\n"
     ]
    }
   ],
   "source": [
    "print(\"hi\")"
   ]
  },
  {
   "cell_type": "code",
   "execution_count": null,
   "metadata": {},
   "outputs": [],
   "source": [
    "!pip show llama-index"
   ]
  },
  {
   "cell_type": "code",
   "execution_count": null,
   "metadata": {},
   "outputs": [],
   "source": [
    "!pip install llama-index==0.12.0"
   ]
  },
  {
   "cell_type": "code",
   "execution_count": 8,
   "metadata": {},
   "outputs": [
    {
     "name": "stdout",
     "output_type": "stream",
     "text": [
      "Help on package llama_index:\n",
      "\n",
      "NAME\n",
      "    llama_index\n",
      "\n",
      "PACKAGE CONTENTS\n",
      "    _bundle (package)\n",
      "    cli (package)\n",
      "    core (package)\n",
      "    legacy (package)\n",
      "\n",
      "SUBMODULES\n",
      "    embeddings\n",
      "    llms\n",
      "\n",
      "FILE\n",
      "    (built-in)\n",
      "\n",
      "\n"
     ]
    }
   ],
   "source": [
    "import llama_index\n",
    "help(llama_index)"
   ]
  },
  {
   "cell_type": "code",
   "execution_count": 7,
   "metadata": {},
   "outputs": [],
   "source": [
    "# import os\n",
    "# from dotenv import load_dotenv\n",
    "# from llama_index.core import VectorStoreIndex, SimpleDirectoryReader, Settings\n",
    "# from llama_index.llms.groq import Groq\n",
    "# from llama_index.embeddings.huggingface import HuggingFaceEmbedding"
   ]
  },
  {
   "cell_type": "code",
   "execution_count": 1,
   "metadata": {},
   "outputs": [
    {
     "name": "stderr",
     "output_type": "stream",
     "text": [
      "d:\\chatbot\\venv\\Lib\\site-packages\\tqdm\\auto.py:21: TqdmWarning: IProgress not found. Please update jupyter and ipywidgets. See https://ipywidgets.readthedocs.io/en/stable/user_install.html\n",
      "  from .autonotebook import tqdm as notebook_tqdm\n"
     ]
    }
   ],
   "source": [
    "import requests\n",
    "from llama_index.core import VectorStoreIndex, Settings\n",
    "from llama_index.core.node_parser import SimpleNodeParser\n",
    "from llama_index.llms.groq import Groq\n",
    "from llama_index.embeddings.huggingface import HuggingFaceEmbedding"
   ]
  },
  {
   "cell_type": "code",
   "execution_count": 1,
   "metadata": {},
   "outputs": [],
   "source": [
    "# Set up GROQ API key\n",
    "GROQ_API_KEY = \"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\"\n",
    "GROQ_API_URL = \"https://api.groq.io/v1/query\""
   ]
  },
  {
   "cell_type": "code",
   "execution_count": null,
   "metadata": {},
   "outputs": [],
   "source": [
    "# Function to query the GROQ API\n",
    "def query_groq_api(query):\n",
    "    headers = {\n",
    "        \"Authorization\": GROQ_API_KEY,\n",
    "        \"Content-Type\": \"application/json\"\n",
    "    }\n",
    "    payload = {\n",
    "        \"query\": query\n",
    "    }\n",
    "    response = requests.post(GROQ_API_URL, headers=headers, json=payload)\n",
    "    if response.status_code == 200:\n",
    "        return response.json()\n",
    "    else:\n",
    "        return {\"error\": response.text}\n",
    "\n",
    "# Set up LlamaIndex with new Settings\n",
    "llm = Groq(model=\"llama-3.3-70b-versatile\")\n",
    "node_parser = SimpleNodeParser()\n",
    "\n",
    "# Configure global settings with both LLM and embedding model\n",
    "Settings.llm = llm\n",
    "Settings.node_parser = node_parser\n",
    "Settings.embed_model = HuggingFaceEmbedding(\n",
    "    model_name=\"BAAI/bge-small-en-v1.5\"  # This is a good default model for embeddings\n",
    ")\n",
    "\n",
    "# Create index with local config\n",
    "index = VectorStoreIndex.from_documents(\n",
    "    documents=[],  # empty list of documents\n",
    "    llm=llm  # passing llm directly to the index\n",
    ")\n",
    "\n",
    "# Define chatbot responses\n",
    "def chatbot_response(user_input):\n",
    "    if \"fetch data\" in user_input.lower():\n",
    "        # Example GROQ API query\n",
    "        groq_query = \"*[_type == 'dataset']{title, description}\"\n",
    "        api_response = query_groq_api(groq_query)\n",
    "        \n",
    "        if \"error\" in api_response:\n",
    "            return f\"Error fetching data: {api_response['error']}\"\n",
    "        else:\n",
    "            # Extract and format data from GROQ API response\n",
    "            data = api_response.get(\"result\", [])\n",
    "            if not data:\n",
    "                return \"No data found for the query.\"\n",
    "            response = \"Here are the results:\\n\"\n",
    "            for item in data:\n",
    "                response += f\"Title: {item.get('title', 'N/A')}\\nDescription: {item.get('description', 'N/A')}\\n\\n\"\n",
    "            return response\n",
    "    else:\n",
    "        return \"I can help you fetch data using the GROQ API. Type 'fetch data' to get started!\"\n",
    "\n",
    "# Sample chatbot conversation\n",
    "def run_chatbot():\n",
    "    print(\"Chatbot: Hello! How can I assist you today?\")\n",
    "    while True:\n",
    "        user_input = input(\"You: \")\n",
    "        if user_input.lower() in [\"exit\", \"quit\"]:\n",
    "            print(\"Chatbot: Goodbye!\")\n",
    "            break\n",
    "        response = chatbot_response(user_input)\n",
    "        print(f\"Chatbot: {response}\")\n",
    "\n",
    "# Run chatbot\n",
    "run_chatbot()"
   ]
  }
 ],
 "metadata": {
  "kernelspec": {
   "display_name": "venv",
   "language": "python",
   "name": "python3"
  },
  "language_info": {
   "codemirror_mode": {
    "name": "ipython",
    "version": 3
   },
   "file_extension": ".py",
   "mimetype": "text/x-python",
   "name": "python",
   "nbconvert_exporter": "python",
   "pygments_lexer": "ipython3",
   "version": "3.11.9"
  }
 },
 "nbformat": 4,
 "nbformat_minor": 2
}
